{
  "nbformat": 4,
  "nbformat_minor": 0,
  "metadata": {
    "colab": {
      "provenance": [],
      "authorship_tag": "ABX9TyNMG5oQxIqyBLuj+l5Cfl0+",
      "include_colab_link": true
    },
    "kernelspec": {
      "name": "python3",
      "display_name": "Python 3"
    },
    "language_info": {
      "name": "python"
    }
  },
  "cells": [
    {
      "cell_type": "markdown",
      "metadata": {
        "id": "view-in-github",
        "colab_type": "text"
      },
      "source": [
        "<a href=\"https://colab.research.google.com/github/JamisonHunter/Product-Sales-Prediction/blob/main/prediction_of_product_sales_j_hunter.ipynb\" target=\"_parent\"><img src=\"https://colab.research.google.com/assets/colab-badge.svg\" alt=\"Open In Colab\"/></a>"
      ]
    },
    {
      "cell_type": "markdown",
      "source": [
        "# Prediction of Product Sales\n",
        "\n",
        "Jamison Hunter"
      ],
      "metadata": {
        "id": "htsPHnmVoG4v"
      }
    },
    {
      "cell_type": "markdown",
      "source": [
        "# Project Overview"
      ],
      "metadata": {
        "id": "3ACtOhFlozSW"
      }
    },
    {
      "cell_type": "markdown",
      "source": [
        "# Load and Inspect Data"
      ],
      "metadata": {
        "id": "XenrR1-_o3S7"
      }
    },
    {
      "cell_type": "code",
      "source": [],
      "metadata": {
        "id": "67YPS1f_pfHV"
      },
      "execution_count": null,
      "outputs": []
    },
    {
      "cell_type": "markdown",
      "source": [
        "# Clean Data"
      ],
      "metadata": {
        "id": "JjpmvFrTpFg9"
      }
    },
    {
      "cell_type": "code",
      "source": [],
      "metadata": {
        "id": "OuMsXEVapfwr"
      },
      "execution_count": null,
      "outputs": []
    },
    {
      "cell_type": "markdown",
      "source": [
        "# Exploratory Data Analysis"
      ],
      "metadata": {
        "id": "uoYlxV2cpURv"
      }
    },
    {
      "cell_type": "code",
      "source": [],
      "metadata": {
        "id": "XEM0TbacpgSU"
      },
      "execution_count": null,
      "outputs": []
    },
    {
      "cell_type": "markdown",
      "source": [
        "# Explanatory Data Analysis"
      ],
      "metadata": {
        "id": "qLIkYYGRpMmL"
      }
    },
    {
      "cell_type": "code",
      "source": [],
      "metadata": {
        "id": "h1FaoyZdpg8K"
      },
      "execution_count": null,
      "outputs": []
    }
  ]
}